{
 "cells": [
  {
   "cell_type": "markdown",
   "metadata": {
    "id": "LR5K955oK7Mq"
   },
   "source": [
    "## Семинар 3 \"Определение ключевых точек лица\""
   ]
  },
  {
   "cell_type": "markdown",
   "metadata": {
    "id": "zPNbPLlPK7M6"
   },
   "source": [
    "## Задание"
   ]
  },
  {
   "cell_type": "markdown",
   "metadata": {
    "id": "XCmzCGjSK7M7"
   },
   "source": [
    "Используя датасет из архива решите задачу регрессии для поиска 68-ми ключевых точек лица. \n",
    "\n",
    "Для обучения и валидации используйте изображения и разметку из папок train и test соответственно.\n",
    "\n",
    "Для **зачета** дз нужно сделать одно из двух:\n",
    "\n",
    "1. Исследовать 6 разных архитектур и написать подробный вывод + мысли почему одна сеть работает лучше чем другая (разные функции активации, глубины сетей, размеры и типы слоев)\n",
    "2. Преодолеть порог MSE=8 на тесте\n",
    "\n",
    "\n",
    "Также до  22 марта 23:59 можно получить до 5 дополнительных баллов за лучшее решение. (За первое место 5 баллов, за второе — 3 балла, за третье — 1 балла.)\n",
    "\n",
    "Для решения можно пользоваться всем инструментарием, с которым мы познакомимся:  предобученные модели, сверточные сети, любые оптимизаторы, batchnorm, dropout, etc."
   ]
  },
  {
   "cell_type": "code",
   "execution_count": 1,
   "metadata": {
    "colab": {
     "base_uri": "https://localhost:8080/"
    },
    "id": "Dc-EHqs9LCAy",
    "outputId": "9f882ff7-9bf2-4b13-a942-7d27170ba370"
   },
   "outputs": [
    {
     "name": "stdout",
     "output_type": "stream",
     "text": [
      "Mounted at /content/drive\n"
     ]
    }
   ],
   "source": [
    "from google.colab import drive\n",
    "drive.mount('/content/drive')"
   ]
  },
  {
   "cell_type": "code",
   "execution_count": 2,
   "metadata": {
    "colab": {
     "base_uri": "https://localhost:8080/"
    },
    "id": "fwYp6hgQNZhG",
    "outputId": "208dff5e-5bfc-476b-f814-33a72df02e06"
   },
   "outputs": [
    {
     "name": "stdout",
     "output_type": "stream",
     "text": [
      "Collecting tensorboardX\n",
      "\u001b[?25l  Downloading https://files.pythonhosted.org/packages/af/0c/4f41bcd45db376e6fe5c619c01100e9b7531c55791b7244815bac6eac32c/tensorboardX-2.1-py2.py3-none-any.whl (308kB)\n",
      "\r",
      "\u001b[K     |█                               | 10kB 22.3MB/s eta 0:00:01\r",
      "\u001b[K     |██▏                             | 20kB 29.3MB/s eta 0:00:01\r",
      "\u001b[K     |███▏                            | 30kB 23.8MB/s eta 0:00:01\r",
      "\u001b[K     |████▎                           | 40kB 21.7MB/s eta 0:00:01\r",
      "\u001b[K     |█████▎                          | 51kB 22.5MB/s eta 0:00:01\r",
      "\u001b[K     |██████▍                         | 61kB 16.3MB/s eta 0:00:01\r",
      "\u001b[K     |███████▍                        | 71kB 17.0MB/s eta 0:00:01\r",
      "\u001b[K     |████████▌                       | 81kB 17.4MB/s eta 0:00:01\r",
      "\u001b[K     |█████████▌                      | 92kB 15.6MB/s eta 0:00:01\r",
      "\u001b[K     |██████████▋                     | 102kB 16.8MB/s eta 0:00:01\r",
      "\u001b[K     |███████████▊                    | 112kB 16.8MB/s eta 0:00:01\r",
      "\u001b[K     |████████████▊                   | 122kB 16.8MB/s eta 0:00:01\r",
      "\u001b[K     |█████████████▉                  | 133kB 16.8MB/s eta 0:00:01\r",
      "\u001b[K     |██████████████▉                 | 143kB 16.8MB/s eta 0:00:01\r",
      "\u001b[K     |████████████████                | 153kB 16.8MB/s eta 0:00:01\r",
      "\u001b[K     |█████████████████               | 163kB 16.8MB/s eta 0:00:01\r",
      "\u001b[K     |██████████████████              | 174kB 16.8MB/s eta 0:00:01\r",
      "\u001b[K     |███████████████████             | 184kB 16.8MB/s eta 0:00:01\r",
      "\u001b[K     |████████████████████▏           | 194kB 16.8MB/s eta 0:00:01\r",
      "\u001b[K     |█████████████████████▎          | 204kB 16.8MB/s eta 0:00:01\r",
      "\u001b[K     |██████████████████████▎         | 215kB 16.8MB/s eta 0:00:01\r",
      "\u001b[K     |███████████████████████▍        | 225kB 16.8MB/s eta 0:00:01\r",
      "\u001b[K     |████████████████████████▍       | 235kB 16.8MB/s eta 0:00:01\r",
      "\u001b[K     |█████████████████████████▌      | 245kB 16.8MB/s eta 0:00:01\r",
      "\u001b[K     |██████████████████████████▌     | 256kB 16.8MB/s eta 0:00:01\r",
      "\u001b[K     |███████████████████████████▋    | 266kB 16.8MB/s eta 0:00:01\r",
      "\u001b[K     |████████████████████████████▋   | 276kB 16.8MB/s eta 0:00:01\r",
      "\u001b[K     |█████████████████████████████▊  | 286kB 16.8MB/s eta 0:00:01\r",
      "\u001b[K     |██████████████████████████████▊ | 296kB 16.8MB/s eta 0:00:01\r",
      "\u001b[K     |███████████████████████████████▉| 307kB 16.8MB/s eta 0:00:01\r",
      "\u001b[K     |████████████████████████████████| 317kB 16.8MB/s \n",
      "\u001b[?25hRequirement already satisfied: protobuf>=3.8.0 in /usr/local/lib/python3.7/dist-packages (from tensorboardX) (3.12.4)\n",
      "Requirement already satisfied: six in /usr/local/lib/python3.7/dist-packages (from tensorboardX) (1.15.0)\n",
      "Requirement already satisfied: numpy in /usr/local/lib/python3.7/dist-packages (from tensorboardX) (1.19.5)\n",
      "Requirement already satisfied: setuptools in /usr/local/lib/python3.7/dist-packages (from protobuf>=3.8.0->tensorboardX) (54.0.0)\n",
      "Installing collected packages: tensorboardX\n",
      "Successfully installed tensorboardX-2.1\n"
     ]
    }
   ],
   "source": [
    "pip install tensorboardX"
   ]
  },
  {
   "cell_type": "code",
   "execution_count": 3,
   "metadata": {
    "colab": {
     "base_uri": "https://localhost:8080/"
    },
    "id": "jUlvroHYNbCb",
    "outputId": "958ce094-af9c-4ccc-f352-30cc26554037"
   },
   "outputs": [
    {
     "name": "stdout",
     "output_type": "stream",
     "text": [
      "Collecting pytorch-ignite\n",
      "\u001b[?25l  Downloading https://files.pythonhosted.org/packages/f8/d3/640f70d69393b415e6a29b27c735047ad86267921ad62682d1d756556d48/pytorch_ignite-0.4.4-py3-none-any.whl (200kB)\n",
      "\r",
      "\u001b[K     |█▋                              | 10kB 23.6MB/s eta 0:00:01\r",
      "\u001b[K     |███▎                            | 20kB 30.9MB/s eta 0:00:01\r",
      "\u001b[K     |█████                           | 30kB 24.6MB/s eta 0:00:01\r",
      "\u001b[K     |██████▌                         | 40kB 27.3MB/s eta 0:00:01\r",
      "\u001b[K     |████████▏                       | 51kB 26.2MB/s eta 0:00:01\r",
      "\u001b[K     |█████████▉                      | 61kB 28.8MB/s eta 0:00:01\r",
      "\u001b[K     |███████████▌                    | 71kB 18.8MB/s eta 0:00:01\r",
      "\u001b[K     |█████████████                   | 81kB 19.9MB/s eta 0:00:01\r",
      "\u001b[K     |██████████████▊                 | 92kB 18.6MB/s eta 0:00:01\r",
      "\u001b[K     |████████████████▍               | 102kB 18.5MB/s eta 0:00:01\r",
      "\u001b[K     |██████████████████              | 112kB 18.5MB/s eta 0:00:01\r",
      "\u001b[K     |███████████████████▋            | 122kB 18.5MB/s eta 0:00:01\r",
      "\u001b[K     |█████████████████████▎          | 133kB 18.5MB/s eta 0:00:01\r",
      "\u001b[K     |███████████████████████         | 143kB 18.5MB/s eta 0:00:01\r",
      "\u001b[K     |████████████████████████▌       | 153kB 18.5MB/s eta 0:00:01\r",
      "\u001b[K     |██████████████████████████▏     | 163kB 18.5MB/s eta 0:00:01\r",
      "\u001b[K     |███████████████████████████▉    | 174kB 18.5MB/s eta 0:00:01\r",
      "\u001b[K     |█████████████████████████████▍  | 184kB 18.5MB/s eta 0:00:01\r",
      "\u001b[K     |███████████████████████████████ | 194kB 18.5MB/s eta 0:00:01\r",
      "\u001b[K     |████████████████████████████████| 204kB 18.5MB/s \n",
      "\u001b[?25hRequirement already satisfied: torch<2,>=1.3 in /usr/local/lib/python3.7/dist-packages (from pytorch-ignite) (1.8.0+cu101)\n",
      "Requirement already satisfied: typing-extensions in /usr/local/lib/python3.7/dist-packages (from torch<2,>=1.3->pytorch-ignite) (3.7.4.3)\n",
      "Requirement already satisfied: numpy in /usr/local/lib/python3.7/dist-packages (from torch<2,>=1.3->pytorch-ignite) (1.19.5)\n",
      "Installing collected packages: pytorch-ignite\n",
      "Successfully installed pytorch-ignite-0.4.4\n"
     ]
    }
   ],
   "source": [
    "pip install pytorch-ignite"
   ]
  },
  {
   "cell_type": "code",
   "execution_count": 4,
   "metadata": {
    "id": "-n_Yh8gPK7M8"
   },
   "outputs": [],
   "source": [
    "%matplotlib inline\n",
    "import os\n",
    "import torch\n",
    "import sys\n",
    "import pandas as pd\n",
    "from skimage import io, transform\n",
    "from tqdm.notebook import tqdm\n",
    "import numpy as np\n",
    "import matplotlib.pyplot as plt\n",
    "from torch.utils.data import Dataset, DataLoader\n",
    "from torchvision import transforms, utils\n",
    "from torch.nn import MSELoss, Sequential, Linear, Sigmoid, Tanh, L1Loss, Module, Parameter\n",
    "from torch.nn import Flatten,Dropout, LayerNorm, Sequential,\\\n",
    "                        Module, Conv2d, BatchNorm2d, ReLU, MaxPool2d, BatchNorm1d\n",
    "from torch.autograd import Variable\n",
    "# Ignore warnings\n",
    "import warnings\n",
    "from skimage import filters\n",
    "from skimage.util import random_noise\n",
    "\n",
    "base_dir = 'drive/MyDrive/Colab Notebooks/tests/'\n",
    "\n",
    "try:\n",
    "    from tensorboardX import SummaryWriter\n",
    "except ImportError:\n",
    "    raise RuntimeError(\"No tensorboardX package is found. Please install with the command: \\npip install tensorboardX\")\n",
    "\n",
    "from ignite.engine import Events, create_supervised_trainer, create_supervised_evaluator\n",
    "from ignite.metrics import Accuracy, Loss"
   ]
  },
  {
   "cell_type": "code",
   "execution_count": 5,
   "metadata": {
    "colab": {
     "base_uri": "https://localhost:8080/",
     "height": 382
    },
    "id": "7pPbcX2gK7M-",
    "outputId": "d00f20f6-473d-4b29-83bc-9fc2b92b61e9"
   },
   "outputs": [
    {
     "name": "stdout",
     "output_type": "stream",
     "text": [
      "Image name: 109.jpeg\n",
      "Landmarks shape: (68, 2)\n",
      "First 4 Landmarks: [[ 7. 41.]\n",
      " [ 8. 51.]\n",
      " [10. 60.]\n",
      " [13. 70.]]\n",
      "Image shape (96, 96)\n"
     ]
    },
    {
     "data": {
      "image/png": "[encoded data removed]",
      "text/plain": [
       "<Figure size 432x288 with 1 Axes>"
      ]
     },
     "metadata": {
      "needs_background": "light",
      "tags": []
     },
     "output_type": "display_data"
    }
   ],
   "source": [
    "warnings.filterwarnings(\"ignore\")\n",
    "\n",
    "landmarks_frame = pd.read_csv(base_dir + 'dataset/train/face_landmarks.csv')\n",
    "\n",
    "n = 100\n",
    "img_name = landmarks_frame.iloc[n, 0]\n",
    "landmarks = landmarks_frame.iloc[n, 1:].values.astype('float')\n",
    "landmarks = landmarks.reshape(-1, 2)\n",
    "\n",
    "print('Image name: {}'.format(img_name))\n",
    "print('Landmarks shape: {}'.format(landmarks.shape))\n",
    "print('First 4 Landmarks: {}'.format(landmarks[:4]))\n",
    "print('Image shape {}'.format( io.imread(os.path.join(base_dir + 'dataset/train/', img_name)).shape  ) )\n",
    "\n",
    "def show_landmarks(image, landmarks):\n",
    "    \"\"\"Show image with landmarks\"\"\"\n",
    "    plt.imshow(image, cmap='gray')\n",
    "    plt.scatter(landmarks[:, 0], landmarks[:, 1], s=10, marker='.', c='red', cmap='rgb')\n",
    "    plt.pause(0.001)  \n",
    "\n",
    "plt.figure()\n",
    "img = io.imread(os.path.join(base_dir + 'dataset/train/', img_name))\n",
    "show_landmarks(img, landmarks)\n",
    "plt.show()"
   ]
  },
  {
   "cell_type": "code",
   "execution_count": 6,
   "metadata": {
    "id": "FIW4wQchK7NB"
   },
   "outputs": [],
   "source": [
    "def show_landmarks_batch(sample_batch, y_pred=None):\n",
    "    \"\"\"Show image with landmarks for a batch of samples.\"\"\"\n",
    "    \"\"\" y_pred: (batch_size, fp_num, 2) \"\"\"\n",
    "    images_batch, landmarks_batch = sample_batch\n",
    "    batch_size = len(images_batch)\n",
    "    im_size = images_batch.size(2)\n",
    "\n",
    "    grid = utils.make_grid(images_batch)\n",
    "    print(images_batch.numpy().shape)\n",
    "    plt.imshow(grid.numpy().transpose(1,0,2).reshape(im_size, -1), cmap=\"gray\")\n",
    "\n",
    "    for i in range(batch_size):\n",
    "        plt.scatter(landmarks_batch[i, :, 0].numpy() + i * im_size,\n",
    "                    landmarks_batch[i, :, 1].numpy(),\n",
    "                    s=10, marker='.', c='r', label='Real')\n",
    "\n",
    "    if type(y_pred) != type(None):\n",
    "        for i in range(batch_size):\n",
    "            plt.scatter(y_pred[i, :, 0] + i * im_size,\n",
    "                        y_pred[i, :, 1],\n",
    "                        s=10, marker='.', c='b',  label='Prediction')\n",
    "        plt.title('Batch from dataloader')\n",
    "    plt.legend()"
   ]
  },
  {
   "cell_type": "code",
   "execution_count": 37,
   "metadata": {
    "id": "a87jqsUm5Xe5"
   },
   "outputs": [],
   "source": [
    "min_arr = np.load( base_dir + 'min_arr.npy' )\n",
    "max_arr = np.load( base_dir + 'max_arr.npy' )"
   ]
  },
  {
   "cell_type": "code",
   "execution_count": 38,
   "metadata": {
    "id": "mMLVga_fK7NH"
   },
   "outputs": [],
   "source": [
    "class RandomBlur(object):\n",
    "    \"\"\"Rescale the image in a sample to a given size.\n",
    "\n",
    "    Args:\n",
    "        output_size (tuple or int): Desired output size. If tuple, output is\n",
    "            matched to output_size. If int, smaller of image edges is matched\n",
    "            to output_size keeping aspect ratio the same.\n",
    "    \"\"\"\n",
    "\n",
    "    def __init__(self, sigma_range=1.0):\n",
    "        assert isinstance(sigma_range, (float))\n",
    "        self.sigma_range = sigma_range\n",
    "        \n",
    "\n",
    "    def __call__(self, sample):\n",
    "        image, landmarks = sample\n",
    "        \n",
    "        sigma = np.random.uniform(0.0, self.sigma_range, 1)[0]\n",
    "        image = filters.gaussian(image, sigma=sigma)\n",
    "\n",
    "        return image, landmarks\n",
    "\n",
    "\n",
    "class RandomSP(object):\n",
    "    \"\"\"Rescale the image in a sample to a given size.\n",
    "\n",
    "    Args:\n",
    "        output_size (tuple or int): Desired output size. If tuple, output is\n",
    "            matched to output_size. If int, smaller of image edges is matched\n",
    "            to output_size keeping aspect ratio the same.\n",
    "    \"\"\"\n",
    "\n",
    "    def __init__(self, amount_range=0.001):\n",
    "        assert isinstance(amount_range, (float))\n",
    "        self.amount_range = amount_range\n",
    "        \n",
    "        \n",
    "    def __call__(self, sample):\n",
    "        image, landmarks = sample\n",
    "        \n",
    "        amount = np.random.uniform(0.0, self.amount_range, 1)[0]\n",
    "        image = random_noise(image, mode='s&p', amount=amount, clip=True)\n",
    "\n",
    "        return image, landmarks\n",
    "\n",
    "\n",
    "class Rescale(object):\n",
    "    \"\"\"Rescale the image in a sample to a given size.\n",
    "\n",
    "    Args:\n",
    "        output_size (tuple or int): Desired output size. If tuple, output is\n",
    "            matched to output_size. If int, smaller of image edges is matched\n",
    "            to output_size keeping aspect ratio the same.\n",
    "    \"\"\"\n",
    "\n",
    "    def __init__(self, output_size):\n",
    "        assert isinstance(output_size, (int, tuple))\n",
    "        self.output_size = output_size\n",
    "\n",
    "    def __call__(self, sample):\n",
    "        image, landmarks = sample\n",
    "\n",
    "        h, w = image.shape[:2]\n",
    "        if isinstance(self.output_size, int):\n",
    "            if h > w:\n",
    "                new_h, new_w = self.output_size * h / w, self.output_size\n",
    "            else:\n",
    "                new_h, new_w = self.output_size, self.output_size * w / h\n",
    "        else:\n",
    "            new_h, new_w = self.output_size\n",
    "\n",
    "        new_h, new_w = int(new_h), int(new_w)\n",
    "\n",
    "        img = transform.resize(image, (new_h, new_w))\n",
    "    \n",
    "        # h and w are swapped for landmarks because for images,\n",
    "        # x and y axes are axis 1 and 0 respectively\n",
    "        \n",
    "        \n",
    "        landmarks = landmarks * [new_w / w, new_h / h]\n",
    "\n",
    "        # shift = (new_h - h) // 2\n",
    "        # img = np.pad(image, shift, mode='constant')\n",
    "        # landmarks = landmarks + [shift, shift]\n",
    "\n",
    "        return img, landmarks\n",
    "\n",
    "\n",
    "class RandomCrop(object):\n",
    "    \"\"\"Crop randomly the image in a sample.\n",
    "\n",
    "    Args:\n",
    "        output_size (tuple or int): Desired output size. If int, square crop\n",
    "            is made.\n",
    "    \"\"\"\n",
    "\n",
    "    def __init__(self, output_size):\n",
    "        assert isinstance(output_size, (int, tuple))\n",
    "        if isinstance(output_size, int):\n",
    "            self.output_size = (output_size, output_size)\n",
    "        else:\n",
    "            assert len(output_size) == 2\n",
    "            self.output_size = output_size\n",
    "\n",
    "    \n",
    "    def __call__(self, sample):\n",
    "        image, landmarks = sample\n",
    "\n",
    "        h, w = image.shape[:2]\n",
    "        new_h, new_w = self.output_size\n",
    "\n",
    "        top = np.random.randint(0, h - new_h)\n",
    "        left = np.random.randint(0, w - new_w)\n",
    "\n",
    "        image = image[top: top + new_h,\n",
    "                      left: left + new_w]\n",
    "\n",
    "        landmarks = landmarks - [left, top]\n",
    "\n",
    "        return image, landmarks\n",
    "    \n",
    "\n",
    "class RandomRotate(object):\n",
    "    # img, facepoints, alpha_degree\n",
    "    \n",
    "    def __init__(self, degree_range):\n",
    "        assert isinstance(degree_range, (int))\n",
    "        assert degree_range >= 1\n",
    "        self.degree_range = degree_range\n",
    "    \n",
    "    \n",
    "    def __call__(self, sample):\n",
    "        image, landmarks = sample\n",
    "        \n",
    "        alpha_degree = np.random.randint(-self.degree_range, self.degree_range, 1)[0]\n",
    "        new_img = transform.rotate(image, alpha_degree, mode='constant') # mode='edge'\n",
    "        \n",
    "        # center = (image.shape[0] / 2 - 0.5, image.shape[1] / 2 - 0.5) # как в skimage.transform.rotate\n",
    "        # center = (image.shape[0] // 2, image.shape[1] // 2)\n",
    "        center = (image.shape[0] / 2, image.shape[1] / 2)\n",
    "        landmarks = np.copy(landmarks)\n",
    "        \n",
    "        vector = landmarks - center\n",
    "        alpha_radian = -np.radians(alpha_degree)\n",
    "        rm = np.array([[np.cos(alpha_radian), -np.sin(alpha_radian)],\n",
    "                      [np.sin(alpha_radian), np.cos(alpha_radian)]], dtype='float32')\n",
    "        \n",
    "        vector = (rm.dot(vector.T)).T\n",
    "        \n",
    "        landmarks = (vector + center).astype(dtype=int)\n",
    "        \n",
    "        return new_img, landmarks\n",
    "\n",
    "\n",
    "class Normalize(object):\n",
    "    \n",
    "    def __init__(self, mean=0.4940668, std=0.22909011):\n",
    "        self.mean = mean\n",
    "        self.std = std \n",
    "\n",
    "    def __call__(self, sample):\n",
    "        image, landmarks = sample\n",
    "        #return (image - self.mean) / self.std, landmarks\n",
    "        return (image - min_arr) / (max_arr - min_arr), landmarks\n",
    "    \n",
    "\n",
    "\n",
    "class ToTensor(object):\n",
    "    \"\"\"Convert ndarrays in sample to Tensors.\"\"\"\n",
    "\n",
    "    def __call__(self, sample):\n",
    "        image, landmarks = sample\n",
    "        return torch.from_numpy(image).type(torch.float), torch.from_numpy(landmarks).type(torch.float)"
   ]
  },
  {
   "cell_type": "code",
   "execution_count": 39,
   "metadata": {
    "id": "oVhe9f0TK7NI"
   },
   "outputs": [],
   "source": [
    "class FaceLandmarksDataset(Dataset):\n",
    "    \"\"\"Face Landmarks dataset.\"\"\"\n",
    "\n",
    "    def __init__(self, csv_file, root_dir, device, transform=None):\n",
    "        \"\"\"\n",
    "        Args:\n",
    "            csv_file (string): Path to the csv file with annotations.\n",
    "            root_dir (string): Directory with all the images.\n",
    "            transform (callable, optional): Optional transform to be applied\n",
    "                on a sample.\n",
    "        \"\"\"\n",
    "        self.landmarks_frame = pd.read_csv(csv_file)\n",
    "        self.root_dir = root_dir\n",
    "        self.transform = transform\n",
    "        self.device = device\n",
    "\n",
    "    def __len__(self):\n",
    "        return len(self.landmarks_frame)\n",
    "\n",
    "    def __getitem__(self, idx):\n",
    "        img_name = os.path.join(self.root_dir, self.landmarks_frame.iloc[idx, 0])\n",
    "        image = io.imread(img_name)\n",
    "        landmarks = self.landmarks_frame.iloc[idx, 1:].values.astype('float')\n",
    "        landmarks = landmarks.reshape(-1, 2)\n",
    "\n",
    "        assert len(image.shape) == 2\n",
    "            \n",
    "        if self.transform:\n",
    "            image, landmarks = self.transform((image, landmarks))\n",
    "        \n",
    "        image = image.reshape(1, *image.shape)\n",
    "        landmarks = landmarks.reshape(68 * 2)\n",
    "        sample = image.to(self.device), landmarks.to(self.device)\n",
    "\n",
    "        return sample"
   ]
  },
  {
   "cell_type": "code",
   "execution_count": 39,
   "metadata": {
    "id": "4DSJYoQe4xbI"
   },
   "outputs": [],
   "source": []
  },
  {
   "cell_type": "code",
   "execution_count": 40,
   "metadata": {
    "id": "dwEaXEwFK7NI"
   },
   "outputs": [],
   "source": [
    "train_dataset = FaceLandmarksDataset(csv_file=base_dir + 'dataset/train/face_landmarks.csv',\n",
    "                                     root_dir=base_dir + 'dataset/train',\n",
    "                                     device='cpu',\n",
    "                                     transform=transforms.Compose([ # transforms.Compose  Sequential\n",
    "                                                Rescale(128), # 192 128\n",
    "                                                Normalize(),\n",
    "                                                #RandomCrop(128),\n",
    "                                                #RandomRotate(70),\n",
    "                                               #RandomCrop(127),\n",
    "                                                ToTensor()\n",
    "                                           ]))"
   ]
  },
  {
   "cell_type": "code",
   "execution_count": 42,
   "metadata": {
    "colab": {
     "base_uri": "https://localhost:8080/"
    },
    "id": "QSrA5b6ACCIl",
    "outputId": "59ae1aa7-8eed-41c6-b40d-886a9da78b91"
   },
   "outputs": [
    {
     "data": {
      "text/plain": [
       "(tensor(0.4996), tensor(0.7221))"
      ]
     },
     "execution_count": 42,
     "metadata": {
      "tags": []
     },
     "output_type": "execute_result"
    }
   ],
   "source": [
    "train_dataset[0][0].min(), train_dataset[0][0].max()"
   ]
  },
  {
   "cell_type": "code",
   "execution_count": 43,
   "metadata": {
    "colab": {
     "base_uri": "https://localhost:8080/"
    },
    "id": "xAaiqUeFK7NJ",
    "outputId": "afb144da-3cf7-4c0e-e261-615b7e9f3ce4"
   },
   "outputs": [
    {
     "data": {
      "text/plain": [
       "torch.Size([128, 128])"
      ]
     },
     "execution_count": 43,
     "metadata": {
      "tags": []
     },
     "output_type": "execute_result"
    }
   ],
   "source": [
    "img, tg = train_dataset[0]\n",
    "img = img[0]\n",
    "img.shape"
   ]
  },
  {
   "cell_type": "code",
   "execution_count": 44,
   "metadata": {
    "colab": {
     "base_uri": "https://localhost:8080/",
     "height": 268
    },
    "id": "PRCzL3QFK7NK",
    "outputId": "ebdea27d-d16a-4d59-ef7e-13a7d5669d51"
   },
   "outputs": [
    {
     "data": {
      "image/png": "[encoded data removed]",
      "text/plain": [
       "<Figure size 432x288 with 1 Axes>"
      ]
     },
     "metadata": {
      "needs_background": "light",
      "tags": []
     },
     "output_type": "display_data"
    }
   ],
   "source": [
    "show_landmarks(img.numpy(), tg.numpy().reshape((68, 2)))"
   ]
  },
  {
   "cell_type": "code",
   "execution_count": 45,
   "metadata": {
    "colab": {
     "base_uri": "https://localhost:8080/"
    },
    "id": "XCqGSdFyK7NL",
    "outputId": "e3379d86-5b5c-4794-f654-e5735159ff16"
   },
   "outputs": [
    {
     "name": "stdout",
     "output_type": "stream",
     "text": [
      "cuda\n"
     ]
    }
   ],
   "source": [
    "device = \"cpu\"\n",
    "\n",
    "if torch.cuda.is_available():\n",
    "    device = \"cuda\"\n",
    "\n",
    "print(device)"
   ]
  },
  {
   "cell_type": "markdown",
   "metadata": {},
   "source": [
    "P.S. любая аугментация только портит скор."
   ]
  },
  {
   "cell_type": "code",
   "execution_count": 46,
   "metadata": {
    "id": "PyKNVZojK7NN"
   },
   "outputs": [],
   "source": [
    "train_dataset = FaceLandmarksDataset(csv_file=base_dir + 'dataset/train/face_landmarks.csv',\n",
    "                                     root_dir=base_dir + 'dataset/train',\n",
    "                                     device=device,\n",
    "                                     transform=transforms.Compose([ # transforms.Compose  Sequential\n",
    "                                                # RandomCrop(80),\n",
    "                                                Rescale(128), # 192 128\n",
    "                                                Normalize(),\n",
    "                                                # RandomCrop(128),\n",
    "                                                # RandomRotate(10),\n",
    "                                                # RandomSP(),\n",
    "                                                # RandomBlur(),\n",
    "                                               #RandomCrop(127),\n",
    "                                                ToTensor()\n",
    "                                           ]))\n",
    "#                                      transform=transforms.Compose([\n",
    "#                                                Rescale(100),\n",
    "#                                                RandomCrop(96),\n",
    "#                                                ToTensor()\n",
    "#                                            ]))\n",
    "\n",
    "test_dataset = FaceLandmarksDataset(csv_file=base_dir + 'dataset/test/face_landmarks.csv',\n",
    "                                     root_dir=base_dir + 'dataset/test',\n",
    "                                     device=device,\n",
    "                                     transform=transforms.Compose([\n",
    "                                               Rescale(128),\n",
    "                                               Normalize(),\n",
    "                                               #RandomCrop(96),\n",
    "                                               ToTensor()\n",
    "                                           ]))"
   ]
  },
  {
   "cell_type": "code",
   "execution_count": 47,
   "metadata": {
    "id": "8USgVd4nK7NP"
   },
   "outputs": [],
   "source": [
    "def get_data_loaders(train_batch_size=16, val_batch_size=16): # 16\n",
    "\n",
    "    train_loader = DataLoader(\n",
    "        train_dataset, batch_size=train_batch_size, shuffle=True\n",
    "    )\n",
    "\n",
    "    test_loader = DataLoader(\n",
    "        test_dataset, batch_size=val_batch_size, shuffle=False\n",
    "    )\n",
    "\n",
    "    return train_loader, test_loader"
   ]
  },
  {
   "cell_type": "code",
   "execution_count": 48,
   "metadata": {
    "id": "i0CtYW-BK7NR"
   },
   "outputs": [],
   "source": [
    "class Net(Module):\n",
    "\n",
    "    def __init__(self, input_shape=(1, 128, 128)):\n",
    "        \"\"\" input_shape = (c, h, w)\"\"\"\n",
    "        super().__init__()\n",
    "        \n",
    "        self.cv1 = Conv2d(in_channels=1, out_channels=32, kernel_size=3, padding=1) \n",
    "        self.ac1 = ReLU()\n",
    "        self.bn1 = BatchNorm2d(32)\n",
    "        self.ap1 = MaxPool2d(kernel_size=2) \n",
    "        \n",
    "        self.cv2 = Conv2d(in_channels=32, out_channels=64, kernel_size=3, padding=1) \n",
    "        self.ac2 = ReLU()\n",
    "        self.bn2 = BatchNorm2d(64)\n",
    "        \n",
    "        self.cv3 = Conv2d(in_channels=64, out_channels=64, kernel_size=3, padding=1) \n",
    "        self.ac3 = ReLU()\n",
    "        self.bn3 = BatchNorm2d(64)\n",
    "        self.ap2 = MaxPool2d(2)\n",
    "        \n",
    "        self.cv4 = Conv2d(in_channels=64, out_channels=64, kernel_size=3, padding=1) \n",
    "        self.ac4 = ReLU()\n",
    "        self.bn4 = BatchNorm2d(64)\n",
    "        \n",
    "        self.cv5 = Conv2d(in_channels=64, out_channels=64, kernel_size=3, padding=1) \n",
    "        self.ac5 = ReLU()\n",
    "        self.bn5 = BatchNorm2d(64)\n",
    "        self.ap3 = MaxPool2d(2)\n",
    "        \n",
    "        self.cv6 = Conv2d(in_channels=64, out_channels=128, kernel_size=3, padding=1) \n",
    "        self.ac6 = ReLU()\n",
    "        self.bn6 = BatchNorm2d(128)\n",
    "        \n",
    "        self.cv7 = Conv2d(in_channels=128, out_channels=128, kernel_size=3, padding=1) \n",
    "        self.ac7 = ReLU()\n",
    "        self.bn7 = BatchNorm2d(128)\n",
    "        self.ap4 = MaxPool2d(2)\n",
    "        \n",
    "        self.cv8 = Conv2d(in_channels=128, out_channels=256, kernel_size=3, padding=1) \n",
    "        self.ac8 = ReLU()\n",
    "        self.bn8 = BatchNorm2d(256)\n",
    "\n",
    "        self.ln1 = Linear(256 * 8 * 8, 1024) # 32 * 6 * 6\n",
    "        self.ac9 = ReLU()\n",
    "        self.bn9 = BatchNorm1d(1024)\n",
    "\n",
    "        self.ln2 = Linear(1024, 68 * 2)\n",
    "\n",
    "        self.layers = [\n",
    "            \n",
    "            self.cv1,\n",
    "            self.ac1,\n",
    "            self.bn1,\n",
    "            self.ap1,\n",
    "\n",
    "            self.cv2,\n",
    "            self.ac2,\n",
    "            self.bn2,\n",
    "\n",
    "            self.cv3,\n",
    "            self.ac3,\n",
    "            self.bn3,\n",
    "            self.ap2,\n",
    "\n",
    "            self.cv4, \n",
    "            self.ac4,\n",
    "            self.bn4,\n",
    "\n",
    "            self.cv5, \n",
    "            self.ac5,\n",
    "            self.bn5,\n",
    "            self.ap3,\n",
    "\n",
    "            self.cv6,\n",
    "            self.ac6,\n",
    "            self.bn6,\n",
    "\n",
    "            self.cv7,\n",
    "            self.ac7,\n",
    "            self.bn7,\n",
    "            self.ap4,\n",
    "\n",
    "            self.cv8,\n",
    "            self.ac8,\n",
    "            self.bn8,\n",
    "            \n",
    "            lambda y: y.view(-1, y.shape[-1] * y.shape[-2] * y.shape[-3]),\n",
    "\n",
    "            self.ln1,\n",
    "            self.ac9,\n",
    "            self.bn9,\n",
    "\n",
    "            self.ln2\n",
    "        ]\n",
    "        \n",
    "    def forward(self, x):\n",
    "        \n",
    "        for layer in self.layers:\n",
    "            x = layer(x)\n",
    "        \n",
    "        return x"
   ]
  },
  {
   "cell_type": "code",
   "execution_count": 49,
   "metadata": {
    "id": "-E-2Uu41K7NT"
   },
   "outputs": [],
   "source": [
    "network = Net()\n",
    "network.to(device)\n",
    "\n",
    "train_dataloader, test_dataloader = get_data_loaders()\n",
    "writer = SummaryWriter(filename_suffix='first', logdir=\"logs\")\n",
    "    \n",
    "criterion = MSELoss()\n",
    "optim = torch.optim.Adam\n",
    "learning_rate = 0.001\n",
    "max_epochs = 100\n",
    "optimizer = optim(network.parameters(), lr=learning_rate)\n",
    "\n",
    "trainer = create_supervised_trainer(network, optimizer, criterion, device=device)\n",
    "evaluator = create_supervised_evaluator(\n",
    "    network, metrics={\"L2 loss\": Loss(criterion), \"L1 loss\": Loss(L1Loss())}, device=device\n",
    ")\n",
    "\n",
    "training_history = {'l1':[],'l2':[]}\n",
    "validation_history = {'l1':[],'l2':[]}\n",
    "last_epoch = []"
   ]
  },
  {
   "cell_type": "code",
   "execution_count": 50,
   "metadata": {
    "id": "CKX2xVhtK7NW"
   },
   "outputs": [],
   "source": [
    "@trainer.on(Events.ITERATION_COMPLETED(every=10))\n",
    "def log_training_loss(engine):\n",
    "    writer.add_scalar(\"training/loss\", engine.state.output, engine.state.iteration)\n",
    "    writer.flush()\n",
    "\n",
    "\n",
    "@trainer.on(Events.EPOCH_COMPLETED)\n",
    "def log_training_results(trainer):\n",
    "    evaluator.run(train_dataloader)\n",
    "    metrics = evaluator.state.metrics\n",
    "    l2_train = metrics[\"L2 loss\"]\n",
    "    l1_train = metrics['L1 loss']\n",
    "    last_epoch.append(0)\n",
    "    training_history['l2'].append(l2_train)\n",
    "    training_history['l1'].append(l1_train)\n",
    "    writer.add_scalar(\"training/epoch_loss\", l2_train, trainer.state.epoch)\n",
    "    \n",
    "    evaluator.run(test_dataloader)\n",
    "    metrics = evaluator.state.metrics\n",
    "    l2 = metrics[\"L2 loss\"]\n",
    "    l1 = metrics['L1 loss']\n",
    "    validation_history['l2'].append(l2)\n",
    "    validation_history['l1'].append(l1)\n",
    "    \n",
    "    writer.add_scalar(\"validation/epoch_loss\", l2, trainer.state.epoch)\n",
    "    writer.flush()\n",
    "    \n",
    "    sys.stdout.write(\"\\rTraining/Validation Results - Epoch: {}  Avg MSE: {:.2f} / {:.2f} Avg MAE: {:.2f} / {:.2f}\"\n",
    "          .format(trainer.state.epoch, l2_train, l2, l1_train, l1))\n",
    "   "
   ]
  },
  {
   "cell_type": "code",
   "execution_count": 51,
   "metadata": {
    "colab": {
     "base_uri": "https://localhost:8080/"
    },
    "id": "sRwIZQT8K7NX",
    "outputId": "f2d90931-10e6-47de-cd58-d2e4966352f8"
   },
   "outputs": [
    {
     "name": "stdout",
     "output_type": "stream",
     "text": [
      "Training/Validation Results - Epoch: 100  Avg MSE: 70765.96 / 4.60 Avg MAE: 5.61 / 1.26"
     ]
    },
    {
     "data": {
      "text/plain": [
       "State:\n",
       "\titeration: 38900\n",
       "\tepoch: 100\n",
       "\tepoch_length: 389\n",
       "\tmax_epochs: 100\n",
       "\toutput: 5.714341163635254\n",
       "\tbatch: <class 'list'>\n",
       "\tmetrics: <class 'dict'>\n",
       "\tdataloader: <class 'torch.utils.data.dataloader.DataLoader'>\n",
       "\tseed: <class 'NoneType'>\n",
       "\ttimes: <class 'dict'>"
      ]
     },
     "execution_count": 51,
     "metadata": {
      "tags": []
     },
     "output_type": "execute_result"
    }
   ],
   "source": [
    "trainer.run(train_dataloader, max_epochs=max_epochs)"
   ]
  },
  {
   "cell_type": "code",
   "execution_count": 52,
   "metadata": {
    "colab": {
     "base_uri": "https://localhost:8080/",
     "height": 555
    },
    "id": "cTtW_bcdK7NY",
    "outputId": "33c4261f-a068-4eb4-bace-8b825582403d"
   },
   "outputs": [
    {
     "data": {
      "image/png": "[encoded data removed]",
      "text/plain": [
       "<Figure size 1440x648 with 1 Axes>"
      ]
     },
     "metadata": {
      "needs_background": "light",
      "tags": []
     },
     "output_type": "display_data"
    }
   ],
   "source": [
    "plt.figure(figsize=(20, 9))\n",
    "plt.plot(training_history['l2'][1:], label='Train')\n",
    "plt.plot(validation_history['l2'][1:], label='Test')\n",
    "plt.xlabel('Epochs', fontsize=16)\n",
    "plt.ylabel('Loss', fontsize=16)\n",
    "plt.legend(loc=0, fontsize=16)\n",
    "plt.grid('on')\n",
    "plt.show()"
   ]
  },
  {
   "cell_type": "code",
   "execution_count": 56,
   "metadata": {
    "id": "uon5tyFb_vbX"
   },
   "outputs": [],
   "source": [
    "_, test_dataloader = get_data_loaders(val_batch_size=20)\n",
    "y_pred = []\n",
    "y_true = []\n",
    "for x, y in test_dataloader:\n",
    "    y_true += y.cpu().detach().numpy().tolist()\n",
    "    y_pred += network(x).cpu().detach().numpy().tolist()"
   ]
  },
  {
   "cell_type": "code",
   "execution_count": 57,
   "metadata": {
    "colab": {
     "base_uri": "https://localhost:8080/"
    },
    "id": "t7oRj_qPEjqT",
    "outputId": "3e095432-42b0-4205-d45a-cdb80cacff81"
   },
   "outputs": [
    {
     "data": {
      "text/plain": [
       "136"
      ]
     },
     "execution_count": 57,
     "metadata": {
      "tags": []
     },
     "output_type": "execute_result"
    }
   ],
   "source": [
    "len(y_pred[0])"
   ]
  },
  {
   "cell_type": "code",
   "execution_count": 58,
   "metadata": {
    "id": "e-_7E5VCDQk3"
   },
   "outputs": [],
   "source": [
    "y_pred = np.array(y_pred)\n",
    "y_true = np.array(y_true)"
   ]
  },
  {
   "cell_type": "code",
   "execution_count": 59,
   "metadata": {
    "colab": {
     "base_uri": "https://localhost:8080/"
    },
    "id": "DUmK4K6tFilQ",
    "outputId": "2ace69af-1851-4055-f1b4-0f4c84c03a3c"
   },
   "outputs": [
    {
     "data": {
      "text/plain": [
       "(1589, 136)"
      ]
     },
     "execution_count": 59,
     "metadata": {
      "tags": []
     },
     "output_type": "execute_result"
    }
   ],
   "source": [
    "y_true.shape"
   ]
  },
  {
   "cell_type": "code",
   "execution_count": 60,
   "metadata": {
    "id": "X7IQDRh6DzHa"
   },
   "outputs": [],
   "source": [
    "from sklearn.metrics import mean_squared_error as l2"
   ]
  },
  {
   "cell_type": "code",
   "execution_count": 61,
   "metadata": {
    "colab": {
     "base_uri": "https://localhost:8080/"
    },
    "id": "EFMjksKcFbeP",
    "outputId": "a41f9134-d8ba-4261-f7d6-381c8932abe2"
   },
   "outputs": [
    {
     "data": {
      "text/plain": [
       "4.596883759417132"
      ]
     },
     "execution_count": 61,
     "metadata": {
      "tags": []
     },
     "output_type": "execute_result"
    }
   ],
   "source": [
    "l2(y_true, y_pred)"
   ]
  },
  {
   "cell_type": "code",
   "execution_count": 62,
   "metadata": {
    "colab": {
     "base_uri": "https://localhost:8080/"
    },
    "id": "9NOM9rukGEUc",
    "outputId": "0bc7b6ea-2ff4-4d4a-fccf-e70512d1e85a"
   },
   "outputs": [
    {
     "data": {
      "text/plain": [
       "4.596883759417132"
      ]
     },
     "execution_count": 62,
     "metadata": {
      "tags": []
     },
     "output_type": "execute_result"
    }
   ],
   "source": [
    "l2(y_true, y_pred)"
   ]
  }
 ],
 "metadata": {
  "accelerator": "GPU",
  "colab": {
   "collapsed_sections": [],
   "name": "Practice task 3, PyTorch Introduction [SOLVED].ipynb",
   "provenance": []
  },
  "kernelspec": {
   "display_name": "Python 3",
   "language": "python",
   "name": "python3"
  },
  "language_info": {
   "codemirror_mode": {
    "name": "ipython",
    "version": 3
   },
   "file_extension": ".py",
   "mimetype": "text/x-python",
   "name": "python",
   "nbconvert_exporter": "python",
   "pygments_lexer": "ipython3",
   "version": "3.8.2"
  },
  "varInspector": {
   "cols": {
    "lenName": 16,
    "lenType": 16,
    "lenVar": 40
   },
   "kernels_config": {
    "python": {
     "delete_cmd_postfix": "",
     "delete_cmd_prefix": "del ",
     "library": "var_list.py",
     "varRefreshCmd": "print(var_dic_list())"
    },
    "r": {
     "delete_cmd_postfix": ") ",
     "delete_cmd_prefix": "rm(",
     "library": "var_list.r",
     "varRefreshCmd": "cat(var_dic_list()) "
    }
   },
   "types_to_exclude": [
    "module",
    "function",
    "builtin_function_or_method",
    "instance",
    "_Feature"
   ],
   "window_display": false
  }
 },
 "nbformat": 4,
 "nbformat_minor": 1
}
